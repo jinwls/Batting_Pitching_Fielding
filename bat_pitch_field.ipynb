{
 "cells": [
  {
   "cell_type": "markdown",
   "metadata": {},
   "source": [
    "## Batting Pitching Fielding"
   ]
  },
  {
   "cell_type": "markdown",
   "metadata": {},
   "source": [
    "After my last notebook, Moneyball, I came to wonder in what areas in baseball are statistically important to winning. Thus, I decided to look at the games in three main categories: batting, pitching, and fielding."
   ]
  },
  {
   "cell_type": "markdown",
   "metadata": {},
   "source": [
    "    Question : From batting, pitching and fielding, what's most important in winning baseball?"
   ]
  },
  {
   "cell_type": "code",
   "execution_count": 117,
   "metadata": {},
   "outputs": [],
   "source": [
    "import pandas as pd\n",
    "import numpy as np\n",
    "import matplotlib.pyplot as plt\n",
    "plt.style.use('fivethirtyeight')\n",
    "pd.set_option('display.max_columns',None)"
   ]
  },
  {
   "cell_type": "code",
   "execution_count": 118,
   "metadata": {},
   "outputs": [],
   "source": [
    "df = pd.read_csv('/Users/jinc/Desktop/프로젝트/baseball_analysis/baseball_analysis/lahman/core/Teams.csv')\n",
    "df_pitch = pd.read_csv('/Users/jinc/Desktop/프로젝트/baseball_analysis/baseball_analysis/lahman/core/Pitching.csv')\n",
    "df_field = pd.read_csv('/Users/jinc/Desktop/프로젝트/baseball_analysis/baseball_analysis/fangraph_field.csv')\n",
    "df_w = pd.read_csv('/Users/jinc/Desktop/프로젝트/baseball_analysis/baseball_analysis/lahman/core/FanGraphs Leaderboard.csv')"
   ]
  },
  {
   "cell_type": "markdown",
   "metadata": {},
   "source": [
    "## Feature Selection"
   ]
  },
  {
   "cell_type": "markdown",
   "metadata": {},
   "source": [
    "#### **Pitching**\n",
    "\n",
    "There are various stats that you can use to evaluate pitcher's performance, such as ERA, WHIP, FIP... In this analysis, we will be using FIP stats because it focuses soley on the events a pitcher has the most control over. FIP are intended as a measure of a pitcher's performance unaffected by the defense behind him.\n",
    "\n",
    "-Pure Pitching skills!!\n",
    "\n",
    "#### **Batting**\n",
    "\n",
    "With batting, we have stats like OPS, OPS+, OBP... We will be using wOBA stat, which is the stat that is favored by many sabermetricians because of its accuracy and simplicity. wOBA is a version of on-base percentage that accounts for 'how' a player reached base instead of simply consedering whether a player reached base. The value for each base is determined by how much that event is worth in relation to projected run scored. Since hitter's main objective is to score runs, I thought that this would be a good stat to start with.\n",
    "\n",
    "#### **Fielding**\n",
    "\n",
    "Fielding is quite recent in baseball statistics. There are great indicators like UZR and DRS, but the data only exist from 2003. Thus, we need to find other indicator that can represent older baseballs. In this notebook, we will use FP(Fielding Percentage) to evaluate teams' fielding performance. \n",
    "\n",
    "FP is a measure that reflect the percentage of times a defensive player properly handles a batted or thrown ball. \n",
    "\n",
    "-------\n",
    "\n",
    "\n",
    "For more information click [here](https://www.crawfishboxes.com/2015/4/30/8519577/sabermetrics-10-best-stats-more)"
   ]
  },
  {
   "cell_type": "markdown",
   "metadata": {},
   "source": [
    "## Data Cleaning"
   ]
  },
  {
   "cell_type": "code",
   "execution_count": 119,
   "metadata": {},
   "outputs": [],
   "source": [
    "pitch_hbp = df_pitch.groupby(['yearID', 'teamID'])['HBP'].sum().to_frame().reset_index()\n",
    "pitch_hbp.rename(columns={'HBP':'PHBP'}, inplace=True)\n",
    "\n",
    "df = df.merge(pitch_hbp, how='left',on=['yearID','teamID'])\n",
    "df = df.merge(df_w, how='left', left_on='yearID', right_on='Season')\n",
    "\n",
    "# 1B = H - 2B - 3B - HR\n",
    "df['1B'] = df.H - df['2B'] - df['3B'] - df.HR\n",
    "\n",
    "# FIP = 13*HR + 3*(BB+HBP) - 2*SO)/(IPouts) + cFIP\n",
    "df['FIP'] = ((df.HRA*13 + (df.BBA+df.PHBP)*3 - df.SOA*2)) / df.IPouts + df.cFIP\n",
    "\n",
    "# wOBA = wBB*(BB-IBB) + wHBP*(HBP) + w1B*(1B) + w2B*(2B) + w3B*(3B) + wHR*(HR) / (AB+BB-IBB+SF+HBP)\n",
    "df['wOBA_team'] = ((df.wBB*df.BB) + (df.wHBP*df.HBP) + (df.w1B*df['1B']) + (df.w2B*df['2B']) + (df.w3B*df['3B']) + (df.wHR*df.HR)) / (df.AB+df.BB+df.SF+df.HBP)"
   ]
  },
  {
   "cell_type": "code",
   "execution_count": null,
   "metadata": {},
   "outputs": [],
   "source": [
    "df.merge()"
   ]
  }
 ],
 "metadata": {
  "interpreter": {
   "hash": "aee8b7b246df8f9039afb4144a1f6fd8d2ca17a180786b69acc140d282b71a49"
  },
  "kernelspec": {
   "display_name": "Python 3.10.0 64-bit",
   "language": "python",
   "name": "python3"
  },
  "language_info": {
   "codemirror_mode": {
    "name": "ipython",
    "version": 3
   },
   "file_extension": ".py",
   "mimetype": "text/x-python",
   "name": "python",
   "nbconvert_exporter": "python",
   "pygments_lexer": "ipython3",
   "version": "3.10.0"
  },
  "orig_nbformat": 4
 },
 "nbformat": 4,
 "nbformat_minor": 2
}
